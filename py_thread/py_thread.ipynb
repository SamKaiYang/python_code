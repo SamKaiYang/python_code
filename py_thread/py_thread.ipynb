{
 "cells": [
  {
   "cell_type": "code",
   "execution_count": 1,
   "metadata": {},
   "outputs": [
    {
     "name": "stdout",
     "output_type": "stream",
     "text": [
      "This is a thread of <Thread(Thread-4, started 140531917117184)>\n"
     ]
    }
   ],
   "source": [
    "\n",
    "# View more python learning tutorial on my Youtube and Youku channel!!!\n",
    "\n",
    "# Youtube video tutorial: https://www.youtube.com/channel/UCdyjiB5H8Pu7aDTNVXTTpcg\n",
    "# Youku video tutorial: http://i.youku.com/pythontutorial\n",
    "\n",
    "import threading\n",
    "\n",
    "#def main():\n",
    "#    print(threading.active_count())\n",
    "#    print(threading.enumerate()) # see the thread list\n",
    "#    print(threading.current_thread())\n",
    "\n",
    "def thread_job():\n",
    "    print('This is a thread of %s' % threading.current_thread())\n",
    "\n",
    "def main():\n",
    "    thread = threading.Thread(target=thread_job,)\n",
    "    thread.start()\n",
    "if __name__ == '__main__':\n",
    "    main()"
   ]
  },
  {
   "cell_type": "code",
   "execution_count": null,
   "metadata": {},
   "outputs": [],
   "source": []
  }
 ],
 "metadata": {
  "kernelspec": {
   "display_name": "Python 3",
   "language": "python",
   "name": "python3"
  },
  "language_info": {
   "codemirror_mode": {
    "name": "ipython",
    "version": 3
   },
   "file_extension": ".py",
   "mimetype": "text/x-python",
   "name": "python",
   "nbconvert_exporter": "python",
   "pygments_lexer": "ipython3",
   "version": "3.6.5"
  }
 },
 "nbformat": 4,
 "nbformat_minor": 2
}
