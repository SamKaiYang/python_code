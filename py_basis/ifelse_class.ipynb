{
 "cells": [
  {
   "cell_type": "code",
   "execution_count": 1,
   "metadata": {},
   "outputs": [],
   "source": [
    "class Calculator:\n",
    "    name='good calculator'\n",
    "    price=18\n",
    "    def __init__(self,name,price,height,width,weight):   # 注意，这里的下划线是双下划线\n",
    "        self.name=name\n",
    "        self.price=price\n",
    "        self.h=height\n",
    "        self.wi=width\n",
    "        self.we=weight"
   ]
  },
  {
   "cell_type": "code",
   "execution_count": 2,
   "metadata": {},
   "outputs": [
    {
     "ename": "TypeError",
     "evalue": "__init__() missing 5 required positional arguments: 'name', 'price', 'height', 'width', and 'weight'",
     "output_type": "error",
     "traceback": [
      "\u001b[0;31m---------------------------------------------------------------------------\u001b[0m",
      "\u001b[0;31mTypeError\u001b[0m                                 Traceback (most recent call last)",
      "\u001b[0;32m<ipython-input-2-c9155dc81b10>\u001b[0m in \u001b[0;36m<module>\u001b[0;34m()\u001b[0m\n\u001b[0;32m----> 1\u001b[0;31m \u001b[0mc\u001b[0m\u001b[0;34m=\u001b[0m\u001b[0mCalculator\u001b[0m\u001b[0;34m(\u001b[0m\u001b[0;34m)\u001b[0m\u001b[0;34m;\u001b[0m\u001b[0;34m\u001b[0m\u001b[0m\n\u001b[0m",
      "\u001b[0;31mTypeError\u001b[0m: __init__() missing 5 required positional arguments: 'name', 'price', 'height', 'width', and 'weight'"
     ]
    }
   ],
   "source": [
    "c=Calculator(); \n"
   ]
  },
  {
   "cell_type": "code",
   "execution_count": 3,
   "metadata": {},
   "outputs": [
    {
     "name": "stdout",
     "output_type": "stream",
     "text": [
      "please input a number:3\n",
      "a3\n"
     ]
    }
   ],
   "source": [
    "a_input=int(input('please input a number:'))\n",
    "if a_input == 1:\n",
    "    print('a1')\n",
    "elif a_input == 2:\n",
    "    print('a2')\n",
    "else:\n",
    "    print('a3')"
   ]
  },
  {
   "cell_type": "code",
   "execution_count": 11,
   "metadata": {},
   "outputs": [
    {
     "name": "stdout",
     "output_type": "stream",
     "text": [
      "index =  0 number in list= 12\n",
      "index =  1 number in list= 3\n",
      "index =  2 number in list= 67\n",
      "index =  3 number in list= 7\n",
      "index =  4 number in list= 82\n"
     ]
    }
   ],
   "source": [
    "a_tuple = (1,2,3,4,5,6)\n",
    "b_tuple = 2,4,5,6,7,7\n",
    "a_list = [12,3,67,7,82]\n",
    "for index in range(len(a_list)):\n",
    "    print('index = ',index,'number in list=',a_list[index])\n",
    "    \n",
    "\n",
    "    "
   ]
  },
  {
   "cell_type": "code",
   "execution_count": null,
   "metadata": {},
   "outputs": [],
   "source": []
  }
 ],
 "metadata": {
  "kernelspec": {
   "display_name": "Python 3",
   "language": "python",
   "name": "python3"
  },
  "language_info": {
   "codemirror_mode": {
    "name": "ipython",
    "version": 3
   },
   "file_extension": ".py",
   "mimetype": "text/x-python",
   "name": "python",
   "nbconvert_exporter": "python",
   "pygments_lexer": "ipython3",
   "version": "3.6.5"
  }
 },
 "nbformat": 4,
 "nbformat_minor": 2
}
