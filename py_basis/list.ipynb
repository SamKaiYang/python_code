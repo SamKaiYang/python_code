{
 "cells": [
  {
   "cell_type": "code",
   "execution_count": 1,
   "metadata": {},
   "outputs": [
    {
     "name": "stdout",
     "output_type": "stream",
     "text": [
      "1\n",
      "1\n",
      "{'apple': 1, 'orange': 3}\n",
      "{'apple': 1, 'orange': 3, 'b': 20}\n",
      "a\n"
     ]
    }
   ],
   "source": [
    "a_list = [1,2,3,4,5,6,7,8]\n",
    "\n",
    "d1 = {'apple':1, 'pear':2, 'orange':3}\n",
    "d2 = {1:'a', 2:'b', 3:'c'}\n",
    "d3 = {1:'a', 'b':2, 'c':3}\n",
    "\n",
    "print(d1['apple'])  # 1\n",
    "print(a_list[0])    # 1\n",
    "\n",
    "del d1['pear']\n",
    "print(d1)   # {'orange': 3, 'apple': 1}\n",
    "\n",
    "d1['b'] = 20\n",
    "print(d1)   # {'orange': 3, 'b': 20, 'pear': 2, 'apple': 1}\n",
    "\n",
    "def func():\n",
    "    return 0\n",
    "\n",
    "d4 = {'apple':[1,2,3], 'pear':{1:3, 3:'a'}, 'orange':func}\n",
    "print(d4['pear'][3])    # a"
   ]
  },
  {
   "cell_type": "code",
   "execution_count": 4,
   "metadata": {},
   "outputs": [
    {
     "name": "stdout",
     "output_type": "stream",
     "text": [
      "time.struct_time(tm_year=2018, tm_mon=8, tm_mday=18, tm_hour=13, tm_min=23, tm_sec=45, tm_wday=5, tm_yday=230, tm_isdst=0)\n"
     ]
    }
   ],
   "source": [
    "import time as t\n",
    "print(t.localtime())"
   ]
  },
  {
   "cell_type": "code",
   "execution_count": 6,
   "metadata": {},
   "outputs": [
    {
     "name": "stdout",
     "output_type": "stream",
     "text": [
      "1534569910.5751038\n"
     ]
    }
   ],
   "source": [
    "from time import time,localtime\n",
    "print(time())"
   ]
  },
  {
   "cell_type": "code",
   "execution_count": null,
   "metadata": {},
   "outputs": [],
   "source": []
  }
 ],
 "metadata": {
  "kernelspec": {
   "display_name": "Python 3",
   "language": "python",
   "name": "python3"
  },
  "language_info": {
   "codemirror_mode": {
    "name": "ipython",
    "version": 3
   },
   "file_extension": ".py",
   "mimetype": "text/x-python",
   "name": "python",
   "nbconvert_exporter": "python",
   "pygments_lexer": "ipython3",
   "version": "3.6.5"
  }
 },
 "nbformat": 4,
 "nbformat_minor": 2
}
