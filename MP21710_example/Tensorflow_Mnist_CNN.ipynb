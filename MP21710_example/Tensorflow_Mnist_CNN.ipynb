{
 "cells": [
  {
   "cell_type": "markdown",
   "metadata": {},
   "source": [
    "# 資料準備"
   ]
  },
  {
   "cell_type": "code",
   "execution_count": 1,
   "metadata": {},
   "outputs": [
    {
     "name": "stdout",
     "output_type": "stream",
     "text": [
      "WARNING:tensorflow:From <ipython-input-1-6bfbaa60ed82>:3: read_data_sets (from tensorflow.contrib.learn.python.learn.datasets.mnist) is deprecated and will be removed in a future version.\n",
      "Instructions for updating:\n",
      "Please use alternatives such as official/mnist/dataset.py from tensorflow/models.\n",
      "WARNING:tensorflow:From /usr/local/lib/python3.5/dist-packages/tensorflow/contrib/learn/python/learn/datasets/mnist.py:260: maybe_download (from tensorflow.contrib.learn.python.learn.datasets.base) is deprecated and will be removed in a future version.\n",
      "Instructions for updating:\n",
      "Please write your own downloading logic.\n",
      "WARNING:tensorflow:From /usr/local/lib/python3.5/dist-packages/tensorflow/contrib/learn/python/learn/datasets/mnist.py:262: extract_images (from tensorflow.contrib.learn.python.learn.datasets.mnist) is deprecated and will be removed in a future version.\n",
      "Instructions for updating:\n",
      "Please use tf.data to implement this functionality.\n",
      "Extracting MNIST_data/train-images-idx3-ubyte.gz\n",
      "WARNING:tensorflow:From /usr/local/lib/python3.5/dist-packages/tensorflow/contrib/learn/python/learn/datasets/mnist.py:267: extract_labels (from tensorflow.contrib.learn.python.learn.datasets.mnist) is deprecated and will be removed in a future version.\n",
      "Instructions for updating:\n",
      "Please use tf.data to implement this functionality.\n",
      "Extracting MNIST_data/train-labels-idx1-ubyte.gz\n",
      "WARNING:tensorflow:From /usr/local/lib/python3.5/dist-packages/tensorflow/contrib/learn/python/learn/datasets/mnist.py:110: dense_to_one_hot (from tensorflow.contrib.learn.python.learn.datasets.mnist) is deprecated and will be removed in a future version.\n",
      "Instructions for updating:\n",
      "Please use tf.one_hot on tensors.\n",
      "Extracting MNIST_data/t10k-images-idx3-ubyte.gz\n",
      "Extracting MNIST_data/t10k-labels-idx1-ubyte.gz\n",
      "WARNING:tensorflow:From /usr/local/lib/python3.5/dist-packages/tensorflow/contrib/learn/python/learn/datasets/mnist.py:290: DataSet.__init__ (from tensorflow.contrib.learn.python.learn.datasets.mnist) is deprecated and will be removed in a future version.\n",
      "Instructions for updating:\n",
      "Please use alternatives such as official/mnist/dataset.py from tensorflow/models.\n"
     ]
    }
   ],
   "source": [
    "import tensorflow as tf\n",
    "import tensorflow.examples.tutorials.mnist.input_data as input_data\n",
    "mnist = input_data.read_data_sets(\"MNIST_data/\", one_hot=True)"
   ]
  },
  {
   "cell_type": "markdown",
   "metadata": {},
   "source": [
    "# 建立共用函數"
   ]
  },
  {
   "cell_type": "code",
   "execution_count": 2,
   "metadata": {},
   "outputs": [],
   "source": [
    "def weight(shape):\n",
    "    return tf.Variable(tf.truncated_normal(shape, stddev=0.1),\n",
    "                       name ='W')"
   ]
  },
  {
   "cell_type": "code",
   "execution_count": 3,
   "metadata": {},
   "outputs": [],
   "source": [
    "def bias(shape):\n",
    "    return tf.Variable(tf.constant(0.1, shape=shape)\n",
    "                       , name = 'b')"
   ]
  },
  {
   "cell_type": "code",
   "execution_count": 4,
   "metadata": {},
   "outputs": [],
   "source": [
    "def conv2d(x, W):\n",
    "    return tf.nn.conv2d(x, W, strides=[1,1,1,1], \n",
    "                        padding='SAME')"
   ]
  },
  {
   "cell_type": "code",
   "execution_count": 5,
   "metadata": {},
   "outputs": [],
   "source": [
    "def max_pool_2x2(x):\n",
    "    return tf.nn.max_pool(x, ksize=[1,2,2,1], \n",
    "                          strides=[1,2,2,1], \n",
    "                          padding='SAME')"
   ]
  },
  {
   "cell_type": "markdown",
   "metadata": {
    "collapsed": true
   },
   "source": [
    "# 輸入層 Input Layer"
   ]
  },
  {
   "cell_type": "code",
   "execution_count": 6,
   "metadata": {},
   "outputs": [],
   "source": [
    "with tf.name_scope('Input_Layer'):\n",
    "    x = tf.placeholder(\"float\",shape=[None, 784]\n",
    "                       ,name=\"x\")    \n",
    "    x_image = tf.reshape(x, [-1, 28, 28, 1])"
   ]
  },
  {
   "cell_type": "markdown",
   "metadata": {},
   "source": [
    "# Convolutional Layer 1"
   ]
  },
  {
   "cell_type": "code",
   "execution_count": 7,
   "metadata": {},
   "outputs": [],
   "source": [
    "with tf.name_scope('C1_Conv'):\n",
    "    W1 = weight([5,5,1,16])\n",
    "    b1 = bias([16])\n",
    "    Conv1=conv2d(x_image, W1)+ b1\n",
    "    C1_Conv = tf.nn.relu(Conv1 )"
   ]
  },
  {
   "cell_type": "code",
   "execution_count": 8,
   "metadata": {},
   "outputs": [],
   "source": [
    "with tf.name_scope('C1_Pool'):\n",
    "    C1_Pool = max_pool_2x2(C1_Conv)"
   ]
  },
  {
   "cell_type": "markdown",
   "metadata": {},
   "source": [
    "# Convolutional Layer 2"
   ]
  },
  {
   "cell_type": "code",
   "execution_count": 9,
   "metadata": {},
   "outputs": [],
   "source": [
    "with tf.name_scope('C2_Conv'):\n",
    "    W2 = weight([5,5,16,36])\n",
    "    b2 = bias([36])\n",
    "    Conv2=conv2d(C1_Pool, W2)+ b2\n",
    "    C2_Conv = tf.nn.relu(Conv2)"
   ]
  },
  {
   "cell_type": "code",
   "execution_count": 10,
   "metadata": {},
   "outputs": [],
   "source": [
    "with tf.name_scope('C2_Pool'):\n",
    "    C2_Pool = max_pool_2x2(C2_Conv) "
   ]
  },
  {
   "cell_type": "markdown",
   "metadata": {},
   "source": [
    "# Fully Connected Layer"
   ]
  },
  {
   "cell_type": "code",
   "execution_count": 11,
   "metadata": {},
   "outputs": [],
   "source": [
    "with tf.name_scope('D_Flat'):\n",
    "    D_Flat = tf.reshape(C2_Pool, [-1, 1764])"
   ]
  },
  {
   "cell_type": "code",
   "execution_count": 12,
   "metadata": {},
   "outputs": [],
   "source": [
    "with tf.name_scope('D_Hidden_Layer'):\n",
    "    W3= weight([1764, 128])\n",
    "    b3= bias([128])\n",
    "    D_Hidden = tf.nn.relu(\n",
    "                  tf.matmul(D_Flat, W3)+b3)\n",
    "    D_Hidden_Dropout= tf.nn.dropout(D_Hidden, \n",
    "                                keep_prob=0.8)"
   ]
  },
  {
   "cell_type": "markdown",
   "metadata": {
    "collapsed": true
   },
   "source": [
    "# 輸出層Output"
   ]
  },
  {
   "cell_type": "code",
   "execution_count": 13,
   "metadata": {},
   "outputs": [],
   "source": [
    "with tf.name_scope('Output_Layer'):\n",
    "    W4 = weight([128,10])\n",
    "    b4 = bias([10])\n",
    "    y_predict= tf.nn.softmax(\n",
    "                 tf.matmul(D_Hidden_Dropout,\n",
    "                           W4)+b4)"
   ]
  },
  {
   "cell_type": "markdown",
   "metadata": {},
   "source": [
    "# 設定訓練模型最佳化步驟"
   ]
  },
  {
   "cell_type": "code",
   "execution_count": 14,
   "metadata": {},
   "outputs": [
    {
     "name": "stdout",
     "output_type": "stream",
     "text": [
      "WARNING:tensorflow:From <ipython-input-14-207c5297505e>:9: softmax_cross_entropy_with_logits (from tensorflow.python.ops.nn_ops) is deprecated and will be removed in a future version.\n",
      "Instructions for updating:\n",
      "\n",
      "Future major versions of TensorFlow will allow gradients to flow\n",
      "into the labels input on backprop by default.\n",
      "\n",
      "See @{tf.nn.softmax_cross_entropy_with_logits_v2}.\n",
      "\n"
     ]
    }
   ],
   "source": [
    "with tf.name_scope(\"optimizer\"):\n",
    "    \n",
    "    y_label = tf.placeholder(\"float\", shape=[None, 10], \n",
    "                              name=\"y_label\")\n",
    "    \n",
    "    loss_function = tf.reduce_mean(\n",
    "                      tf.nn.softmax_cross_entropy_with_logits\n",
    "                         (logits=y_predict , \n",
    "                          labels=y_label))\n",
    "    \n",
    "    optimizer = tf.train.AdamOptimizer(learning_rate=0.0001) \\\n",
    "                    .minimize(loss_function)"
   ]
  },
  {
   "cell_type": "markdown",
   "metadata": {},
   "source": [
    "# 設定評估模型"
   ]
  },
  {
   "cell_type": "code",
   "execution_count": 15,
   "metadata": {},
   "outputs": [],
   "source": [
    "with tf.name_scope(\"evaluate_model\"):\n",
    "    correct_prediction = tf.equal(tf.argmax(y_predict, 1),\n",
    "                                  tf.argmax(y_label, 1))\n",
    "    accuracy = tf.reduce_mean(tf.cast(correct_prediction, \"float\"))"
   ]
  },
  {
   "cell_type": "markdown",
   "metadata": {},
   "source": [
    "# 訓練模型"
   ]
  },
  {
   "cell_type": "code",
   "execution_count": 16,
   "metadata": {},
   "outputs": [],
   "source": [
    "trainEpochs = 30\n",
    "batchSize = 100\n",
    "totalBatchs = int(mnist.train.num_examples/batchSize)\n",
    "epoch_list=[];accuracy_list=[];loss_list=[];\n",
    "from time import time\n",
    "startTime=time()\n",
    "sess = tf.Session()\n",
    "sess.run(tf.global_variables_initializer())"
   ]
  },
  {
   "cell_type": "code",
   "execution_count": 17,
   "metadata": {},
   "outputs": [
    {
     "name": "stdout",
     "output_type": "stream",
     "text": [
      "Train Epoch: 01 Loss= 1.636133194  Accuracy= 0.8504\n",
      "Train Epoch: 02 Loss= 1.543625593  Accuracy= 0.9304\n",
      "Train Epoch: 03 Loss= 1.525657177  Accuracy= 0.9418\n",
      "Train Epoch: 04 Loss= 1.513388276  Accuracy= 0.953\n",
      "Train Epoch: 05 Loss= 1.503730297  Accuracy= 0.9638\n",
      "Train Epoch: 06 Loss= 1.498731256  Accuracy= 0.967\n",
      "Train Epoch: 07 Loss= 1.494642496  Accuracy= 0.9698\n",
      "Train Epoch: 08 Loss= 1.492656112  Accuracy= 0.9718\n",
      "Train Epoch: 09 Loss= 1.489811540  Accuracy= 0.974\n",
      "Train Epoch: 10 Loss= 1.488841176  Accuracy= 0.9754\n",
      "Train Epoch: 11 Loss= 1.486127853  Accuracy= 0.9784\n",
      "Train Epoch: 12 Loss= 1.485402584  Accuracy= 0.9776\n",
      "Train Epoch: 13 Loss= 1.484933615  Accuracy= 0.9786\n",
      "Train Epoch: 14 Loss= 1.483963966  Accuracy= 0.9798\n",
      "Train Epoch: 15 Loss= 1.483983040  Accuracy= 0.9786\n",
      "Train Epoch: 16 Loss= 1.481891751  Accuracy= 0.981\n",
      "Train Epoch: 17 Loss= 1.480499983  Accuracy= 0.9822\n",
      "Train Epoch: 18 Loss= 1.480249763  Accuracy= 0.9822\n",
      "Train Epoch: 19 Loss= 1.479416013  Accuracy= 0.9826\n",
      "Train Epoch: 20 Loss= 1.479476213  Accuracy= 0.983\n",
      "Train Epoch: 21 Loss= 1.479614973  Accuracy= 0.983\n",
      "Train Epoch: 22 Loss= 1.479714036  Accuracy= 0.9834\n",
      "Train Epoch: 23 Loss= 1.479141235  Accuracy= 0.9836\n",
      "Train Epoch: 24 Loss= 1.478013635  Accuracy= 0.9832\n",
      "Train Epoch: 25 Loss= 1.477110982  Accuracy= 0.9854\n",
      "Train Epoch: 26 Loss= 1.476951599  Accuracy= 0.9854\n",
      "Train Epoch: 27 Loss= 1.477497458  Accuracy= 0.9856\n",
      "Train Epoch: 28 Loss= 1.477328539  Accuracy= 0.985\n",
      "Train Epoch: 29 Loss= 1.476901174  Accuracy= 0.9862\n",
      "Train Epoch: 30 Loss= 1.476011038  Accuracy= 0.9862\n",
      "Train Finished takes: 160.03122901916504\n"
     ]
    }
   ],
   "source": [
    "for epoch in range(trainEpochs):\n",
    "\n",
    "    \n",
    "    for i in range(totalBatchs):\n",
    "        batch_x, batch_y = mnist.train.next_batch(batchSize)\n",
    "        sess.run(optimizer,feed_dict={x: batch_x,\n",
    "                                      y_label: batch_y})\n",
    "        \n",
    "    \n",
    "    loss,acc = sess.run([loss_function,accuracy],\n",
    "                        feed_dict={x: mnist.validation.images, \n",
    "                                   y_label: mnist.validation.labels})\n",
    "\n",
    "    epoch_list.append(epoch)\n",
    "    loss_list.append(loss);accuracy_list.append(acc)    \n",
    "    \n",
    "    print(\"Train Epoch:\", '%02d' % (epoch+1), \\\n",
    "          \"Loss=\",\"{:.9f}\".format(loss),\" Accuracy=\",acc)\n",
    "    \n",
    "duration =time()-startTime\n",
    "print(\"Train Finished takes:\",duration)         "
   ]
  },
  {
   "cell_type": "code",
   "execution_count": 18,
   "metadata": {},
   "outputs": [
    {
     "data": {
      "text/plain": [
       "<matplotlib.legend.Legend at 0x7f46740365c0>"
      ]
     },
     "execution_count": 18,
     "metadata": {},
     "output_type": "execute_result"
    },
    {
     "data": {
      "image/png": "[encoded data removed]",
      "text/plain": [
       "<Figure size 288x144 with 1 Axes>"
      ]
     },
     "metadata": {
      "needs_background": "light"
     },
     "output_type": "display_data"
    }
   ],
   "source": [
    "%matplotlib inline\n",
    "import matplotlib.pyplot as plt\n",
    "fig = plt.gcf()\n",
    "fig.set_size_inches(4,2)\n",
    "plt.plot(epoch_list, loss_list, label = 'loss')\n",
    "plt.ylabel('loss')\n",
    "plt.xlabel('epoch')\n",
    "plt.legend(['loss'], loc='upper left')"
   ]
  },
  {
   "cell_type": "code",
   "execution_count": 19,
   "metadata": {},
   "outputs": [
    {
     "data": {
      "image/png": "[encoded data removed]",
      "text/plain": [
       "<Figure size 288x144 with 1 Axes>"
      ]
     },
     "metadata": {
      "needs_background": "light"
     },
     "output_type": "display_data"
    }
   ],
   "source": [
    "plt.plot(epoch_list, accuracy_list,label=\"accuracy\" )\n",
    "fig = plt.gcf()\n",
    "fig.set_size_inches(4,2)\n",
    "plt.ylim(0.8,1)\n",
    "plt.ylabel('accuracy')\n",
    "plt.xlabel('epoch')\n",
    "plt.legend()\n",
    "plt.show()\n"
   ]
  },
  {
   "cell_type": "markdown",
   "metadata": {},
   "source": [
    "# 評估模型準確率"
   ]
  },
  {
   "cell_type": "code",
   "execution_count": 20,
   "metadata": {},
   "outputs": [
    {
     "data": {
      "text/plain": [
       "10000"
      ]
     },
     "execution_count": 20,
     "metadata": {},
     "output_type": "execute_result"
    }
   ],
   "source": [
    "len(mnist.test.images)"
   ]
  },
  {
   "cell_type": "code",
   "execution_count": 21,
   "metadata": {},
   "outputs": [
    {
     "name": "stdout",
     "output_type": "stream",
     "text": [
      "Accuracy: 0.9848\n"
     ]
    }
   ],
   "source": [
    "print(\"Accuracy:\", \n",
    "      sess.run(accuracy,feed_dict={x: mnist.test.images,\n",
    "                                   y_label: mnist.test.labels}))"
   ]
  },
  {
   "cell_type": "code",
   "execution_count": 22,
   "metadata": {},
   "outputs": [
    {
     "name": "stdout",
     "output_type": "stream",
     "text": [
      "Accuracy: 0.9806\n"
     ]
    }
   ],
   "source": [
    "print(\"Accuracy:\", \n",
    "      sess.run(accuracy,feed_dict={x: mnist.test.images[:5000],\n",
    "                                   y_label: mnist.test.labels[:5000]}))\n"
   ]
  },
  {
   "cell_type": "code",
   "execution_count": 23,
   "metadata": {},
   "outputs": [
    {
     "name": "stdout",
     "output_type": "stream",
     "text": [
      "Accuracy: 0.992\n"
     ]
    }
   ],
   "source": [
    "print(\"Accuracy:\", \n",
    "      sess.run(accuracy,feed_dict={x: mnist.test.images[5000:],\n",
    "                                   y_label: mnist.test.labels[5000:]}))"
   ]
  },
  {
   "cell_type": "markdown",
   "metadata": {},
   "source": [
    "# 預測機率"
   ]
  },
  {
   "cell_type": "code",
   "execution_count": 24,
   "metadata": {},
   "outputs": [],
   "source": [
    "y_predict=sess.run(y_predict, \n",
    "                   feed_dict={x: mnist.test.images[:5000]})"
   ]
  },
  {
   "cell_type": "code",
   "execution_count": 25,
   "metadata": {},
   "outputs": [
    {
     "data": {
      "text/plain": [
       "array([[3.18064449e-18, 1.26454836e-14, 3.71076029e-16, 4.06737984e-13,\n",
       "        3.03008295e-21, 3.30586007e-17, 2.81531835e-24, 1.00000000e+00,\n",
       "        1.01270176e-17, 2.91315409e-12],\n",
       "       [1.68046935e-12, 6.58642520e-13, 1.00000000e+00, 2.18429513e-20,\n",
       "        4.34886987e-25, 3.22850169e-26, 1.63411363e-22, 2.27366846e-25,\n",
       "        2.22150061e-16, 8.85249065e-29],\n",
       "       [4.02289757e-08, 9.99998689e-01, 1.95710648e-08, 3.27756138e-12,\n",
       "        3.77802934e-07, 9.35841057e-11, 6.18453511e-09, 9.32225408e-09,\n",
       "        8.98653354e-07, 3.44963924e-09],\n",
       "       [1.00000000e+00, 5.85110085e-12, 1.49073365e-09, 2.40036658e-12,\n",
       "        6.40117256e-12, 9.21241972e-11, 2.19131802e-09, 3.01524983e-09,\n",
       "        1.01097414e-14, 5.26394217e-09],\n",
       "       [6.45193043e-16, 6.99897443e-13, 1.83150465e-13, 4.57716091e-17,\n",
       "        1.00000000e+00, 2.67669876e-16, 1.40113377e-12, 4.59421086e-12,\n",
       "        2.48152600e-13, 4.82915707e-09]], dtype=float32)"
      ]
     },
     "execution_count": 25,
     "metadata": {},
     "output_type": "execute_result"
    }
   ],
   "source": [
    "y_predict[:5]"
   ]
  },
  {
   "cell_type": "markdown",
   "metadata": {},
   "source": [
    "# 預測結果"
   ]
  },
  {
   "cell_type": "code",
   "execution_count": 26,
   "metadata": {},
   "outputs": [],
   "source": [
    "prediction_result=sess.run(tf.argmax(y_predict,1),\n",
    "                           feed_dict={x: mnist.test.images ,\n",
    "                                      y_label: mnist.test.labels})"
   ]
  },
  {
   "cell_type": "code",
   "execution_count": 27,
   "metadata": {},
   "outputs": [
    {
     "data": {
      "text/plain": [
       "array([7, 2, 1, 0, 4, 1, 4, 9, 5, 9])"
      ]
     },
     "execution_count": 27,
     "metadata": {},
     "output_type": "execute_result"
    }
   ],
   "source": [
    "prediction_result[:10]"
   ]
  },
  {
   "cell_type": "code",
   "execution_count": 28,
   "metadata": {},
   "outputs": [],
   "source": [
    "import numpy as np\n",
    "def show_images_labels_predict(images,labels,prediction_result):\n",
    "    fig = plt.gcf()\n",
    "    fig.set_size_inches(8, 10)\n",
    "    for i in range(0, 10):\n",
    "        ax=plt.subplot(5,5, 1+i)\n",
    "        ax.imshow(np.reshape(images[i],(28, 28)), \n",
    "                  cmap='binary')\n",
    "        ax.set_title(\"label=\" +str(np.argmax(labels[i]))+\n",
    "                     \",predict=\"+str(prediction_result[i])\n",
    "                     ,fontsize=9) \n",
    "    plt.show()"
   ]
  },
  {
   "cell_type": "code",
   "execution_count": 29,
   "metadata": {},
   "outputs": [
    {
     "data": {
      "image/png": "[encoded data removed]",
      "text/plain": [
       "<Figure size 576x720 with 10 Axes>"
      ]
     },
     "metadata": {
      "needs_background": "light"
     },
     "output_type": "display_data"
    }
   ],
   "source": [
    "show_images_labels_predict(mnist.test.images,mnist.test.labels,prediction_result)"
   ]
  },
  {
   "cell_type": "markdown",
   "metadata": {},
   "source": [
    "# 找出預測錯誤"
   ]
  },
  {
   "cell_type": "code",
   "execution_count": 30,
   "metadata": {},
   "outputs": [
    {
     "name": "stdout",
     "output_type": "stream",
     "text": [
      "i=18   label= 3 predict= 8\n",
      "i=247   label= 4 predict= 2\n",
      "i=320   label= 9 predict= 8\n",
      "i=321   label= 2 predict= 7\n",
      "i=449   label= 3 predict= 5\n"
     ]
    }
   ],
   "source": [
    "for i in range(500):\n",
    "    if prediction_result[i]!=np.argmax(mnist.test.labels[i]):\n",
    "        print(\"i=\"+str(i)+\n",
    "              \"   label=\",np.argmax(mnist.test.labels[i]),\n",
    "              \"predict=\",prediction_result[i])"
   ]
  },
  {
   "cell_type": "code",
   "execution_count": 31,
   "metadata": {},
   "outputs": [],
   "source": [
    "def show_images_labels_predict_error(images,labels,prediction_result):\n",
    "    fig = plt.gcf()\n",
    "    fig.set_size_inches(8, 10)\n",
    "    i=0;j=0\n",
    "    while i<10:\n",
    "        if prediction_result[j]!=np.argmax(labels[j]):\n",
    "            ax=plt.subplot(5,5, 1+i)\n",
    "            ax.imshow(np.reshape(images[j],(28, 28)), \n",
    "                      cmap='binary')\n",
    "            ax.set_title(\"j=\"+str(j)+\n",
    "                         \",l=\" +str(np.argmax(labels[j]))+\n",
    "                         \",p=\"+str(prediction_result[j])\n",
    "                         ,fontsize=9) \n",
    "            i=i+1  \n",
    "        j=j+1\n",
    "    plt.show()"
   ]
  },
  {
   "cell_type": "code",
   "execution_count": 32,
   "metadata": {},
   "outputs": [
    {
     "data": {
      "image/png": "[encoded data removed]",
      "text/plain": [
       "<Figure size 576x720 with 10 Axes>"
      ]
     },
     "metadata": {
      "needs_background": "light"
     },
     "output_type": "display_data"
    }
   ],
   "source": [
    "show_images_labels_predict_error(mnist.test.images,mnist.test.labels,prediction_result)"
   ]
  },
  {
   "cell_type": "code",
   "execution_count": 33,
   "metadata": {},
   "outputs": [],
   "source": [
    "saver = tf.train.Saver()"
   ]
  },
  {
   "cell_type": "code",
   "execution_count": 34,
   "metadata": {},
   "outputs": [],
   "source": [
    "save_path = saver.save(sess, \"saveModel/CNN_model1\")"
   ]
  },
  {
   "cell_type": "code",
   "execution_count": 35,
   "metadata": {},
   "outputs": [
    {
     "name": "stdout",
     "output_type": "stream",
     "text": [
      "Model saved in file: saveModel/CNN_model1\n"
     ]
    }
   ],
   "source": [
    "print(\"Model saved in file: %s\" % save_path)"
   ]
  },
  {
   "cell_type": "code",
   "execution_count": 36,
   "metadata": {},
   "outputs": [],
   "source": [
    "merged = tf.summary.merge_all()\n",
    "train_writer = tf.summary.FileWriter('log/CNN',sess.graph)"
   ]
  },
  {
   "cell_type": "code",
   "execution_count": 37,
   "metadata": {},
   "outputs": [],
   "source": [
    "#sess.close()"
   ]
  }
 ],
 "metadata": {
  "anaconda-cloud": {},
  "kernelspec": {
   "display_name": "Python 3",
   "language": "python",
   "name": "python3"
  },
  "language_info": {
   "codemirror_mode": {
    "name": "ipython",
    "version": 3
   },
   "file_extension": ".py",
   "mimetype": "text/x-python",
   "name": "python",
   "nbconvert_exporter": "python",
   "pygments_lexer": "ipython3",
   "version": "3.5.2"
  }
 },
 "nbformat": 4,
 "nbformat_minor": 1
}
