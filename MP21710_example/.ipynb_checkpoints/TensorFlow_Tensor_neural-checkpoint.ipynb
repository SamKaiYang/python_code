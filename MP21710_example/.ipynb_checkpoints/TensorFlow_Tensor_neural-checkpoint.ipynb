{
 "cells": [
  {
   "cell_type": "code",
   "execution_count": 1,
   "metadata": {},
   "outputs": [],
   "source": [
    "import tensorflow as tf\n",
    "import numpy as np"
   ]
  },
  {
   "cell_type": "markdown",
   "metadata": {},
   "source": [
    "# y= relu ( (X․W ) + b )"
   ]
  },
  {
   "cell_type": "code",
   "execution_count": 2,
   "metadata": {},
   "outputs": [
    {
     "name": "stdout",
     "output_type": "stream",
     "text": [
      "XWb:\n",
      "[[-0.36000004  0.28      ]]\n",
      "y:\n",
      "[[0.   0.28]]\n"
     ]
    }
   ],
   "source": [
    "X = tf.Variable([[0.4,0.2,0.4]])\n",
    "\n",
    "W = tf.Variable([[-0.5,-0.2 ],\n",
    "                 [-0.3, 0.4 ],\n",
    "                 [-0.5, 0.2 ]])\n",
    "                         \n",
    "b = tf.Variable([[0.1,0.2]])\n",
    "    \n",
    "XWb =tf.matmul(X,W)+b\n",
    "\n",
    "y=tf.nn.relu(tf.matmul(X,W)+b)\n",
    "\n",
    "with tf.Session() as sess:\n",
    "    init = tf.global_variables_initializer()\n",
    "    sess.run(init)\n",
    "    print('XWb:')    \n",
    "    print(sess.run(XWb ))    \n",
    "    print('y:')    \n",
    "    print(sess.run(y ))"
   ]
  },
  {
   "cell_type": "markdown",
   "metadata": {},
   "source": [
    "# y= sigmoid ( (X․W ) + b )"
   ]
  },
  {
   "cell_type": "code",
   "execution_count": 3,
   "metadata": {},
   "outputs": [
    {
     "name": "stdout",
     "output_type": "stream",
     "text": [
      "XWb:\n",
      "[[-0.36000004  0.28      ]]\n",
      "y:\n",
      "[[0.41095954 0.5695462 ]]\n"
     ]
    }
   ],
   "source": [
    "X = tf.Variable([[0.4,0.2,0.4]])\n",
    "\n",
    "W = tf.Variable([[-0.5,-0.2 ],\n",
    "                 [-0.3, 0.4 ],\n",
    "                 [-0.5, 0.2 ]])\n",
    "\n",
    "b = tf.Variable([[0.1,0.2]])\n",
    "\n",
    "XWb=tf.matmul(X,W)+b\n",
    "\n",
    "y=tf.nn.sigmoid(tf.matmul(X,W)+b)\n",
    "\n",
    "with tf.Session() as sess:\n",
    "    init = tf.global_variables_initializer()\n",
    "    sess.run(init)\n",
    "    print('XWb:')    \n",
    "    print(sess.run(XWb))    \n",
    "    print('y:')    \n",
    "    print(sess.run(y ))"
   ]
  },
  {
   "cell_type": "markdown",
   "metadata": {
    "collapsed": true
   },
   "source": [
    "# 以亂數產生Weight(W)與bais(b) "
   ]
  },
  {
   "cell_type": "code",
   "execution_count": 4,
   "metadata": {},
   "outputs": [
    {
     "name": "stdout",
     "output_type": "stream",
     "text": [
      "b:\n",
      "[[-0.75289136 -0.21360995]]\n",
      "W:\n",
      "[[ 0.32415468  1.6653973 ]\n",
      " [-0.4676743   0.3010316 ]\n",
      " [-0.87883556 -0.35995352]]\n",
      "y:\n",
      "[[0.         0.36877388]]\n"
     ]
    }
   ],
   "source": [
    "W = tf.Variable(tf.random_normal([3, 2]))\n",
    "b = tf.Variable(tf.random_normal([1, 2]))\n",
    "X = tf.Variable([[0.4,0.2,0.4]])\n",
    "y=tf.nn.relu(tf.matmul(X,W)+b)\n",
    "with tf.Session() as sess:\n",
    "    init = tf.global_variables_initializer()\n",
    "    sess.run(init)\n",
    "    print('b:')\n",
    "    print(sess.run(b ))    \n",
    "    print('W:')\n",
    "    print(sess.run(W ))\n",
    "    print('y:')\n",
    "    print(sess.run(y ))    "
   ]
  },
  {
   "cell_type": "code",
   "execution_count": 5,
   "metadata": {},
   "outputs": [
    {
     "name": "stdout",
     "output_type": "stream",
     "text": [
      "b:\n",
      "[[-2.2580326   0.10065537]]\n",
      "W:\n",
      "[[-0.82425076  0.9317588 ]\n",
      " [ 0.32497135  0.63967264]\n",
      " [ 1.0150024   0.3763    ]]\n",
      "y:\n",
      "[[0.        0.7518135]]\n"
     ]
    }
   ],
   "source": [
    "W = tf.Variable(tf.random_normal([3, 2]))\n",
    "b = tf.Variable(tf.random_normal([1, 2]))\n",
    "X = tf.Variable([[0.4,0.2,0.4]])\n",
    "y=tf.nn.relu(tf.matmul(X,W)+b)\n",
    "with tf.Session() as sess:\n",
    "    init = tf.global_variables_initializer()\n",
    "    sess.run(init)\n",
    "    (_b,_W,_y)=sess.run((b,W,y))\n",
    "    print('b:')\n",
    "    print(_b)\n",
    "    print('W:')\n",
    "    print(_W)\n",
    "    print('y:')\n",
    "    print(_y)   "
   ]
  },
  {
   "cell_type": "markdown",
   "metadata": {},
   "source": [
    "# placeholder"
   ]
  },
  {
   "cell_type": "code",
   "execution_count": 6,
   "metadata": {},
   "outputs": [
    {
     "name": "stdout",
     "output_type": "stream",
     "text": [
      "b:\n",
      "[[-0.8033069 -1.1566757]]\n",
      "W:\n",
      "[[-0.05356593 -0.17695633]\n",
      " [-0.80184585  1.319405  ]\n",
      " [ 1.4223098   0.580887  ]]\n",
      "X:\n",
      "[[0.4 0.2 0.4]]\n",
      "y:\n",
      "[[0. 0.]]\n"
     ]
    }
   ],
   "source": [
    "W = tf.Variable(tf.random_normal([3, 2]))\n",
    "b = tf.Variable(tf.random_normal([1, 2]))\n",
    "X = tf.placeholder(\"float\", [None,3])\n",
    "y=tf.nn.relu(tf.matmul(X,W)+b)\n",
    "with tf.Session() as sess:\n",
    "    init = tf.global_variables_initializer()\n",
    "    sess.run(init)\n",
    "    X_array = np.array([[0.4,0.2,0.4]])\n",
    "    (_b,_W,_X,_y)=sess.run((b,W,X,y),feed_dict={X:X_array})\n",
    "    print('b:')\n",
    "    print(_b)    \n",
    "    print('W:')\n",
    "    print(_W)\n",
    "    print('X:')\n",
    "    print(_X)\n",
    "    print('y:')\n",
    "    print(_y)"
   ]
  },
  {
   "cell_type": "code",
   "execution_count": 7,
   "metadata": {},
   "outputs": [
    {
     "data": {
      "text/plain": [
       "(1, 2)"
      ]
     },
     "execution_count": 7,
     "metadata": {},
     "output_type": "execute_result"
    }
   ],
   "source": [
    "_y.shape"
   ]
  },
  {
   "cell_type": "code",
   "execution_count": 8,
   "metadata": {},
   "outputs": [
    {
     "name": "stdout",
     "output_type": "stream",
     "text": [
      "1000\n",
      "[-0.69809973  1.665934   -1.0098528  -1.1423707  -1.5148643   1.1238166\n",
      " -0.01149235 -1.8324631   0.09425742  0.5282896  -0.52710795 -0.33088508\n",
      " -2.222566   -1.0814825  -0.08803795 -0.18597269  0.0781358  -0.07430929\n",
      " -0.00692937  0.02644029 -1.3064219  -1.0680714  -0.8158274   0.64005923\n",
      " -0.5799506  -0.08615807 -1.9546151  -1.1454369   0.51326233 -1.9071549 ]\n"
     ]
    }
   ],
   "source": [
    "ts_norm = tf.random_normal([1000])\n",
    "with tf.Session() as session:\n",
    "    norm_data=ts_norm.eval()\n",
    "print(len(norm_data))\n",
    "print(norm_data[:30])"
   ]
  },
  {
   "cell_type": "code",
   "execution_count": 9,
   "metadata": {},
   "outputs": [
    {
     "data": {
      "text/plain": [
       "<Figure size 640x480 with 1 Axes>"
      ]
     },
     "metadata": {},
     "output_type": "display_data"
    }
   ],
   "source": [
    "import matplotlib.pyplot as plt\n",
    "plt.hist(norm_data)\n",
    "plt.show()    "
   ]
  },
  {
   "cell_type": "code",
   "execution_count": 10,
   "metadata": {},
   "outputs": [
    {
     "name": "stdout",
     "output_type": "stream",
     "text": [
      "b:\n",
      "[[-0.31402463  0.47523093]]\n",
      "W:\n",
      "[[-2.507255   -1.4857094 ]\n",
      " [-1.2087431   1.148748  ]\n",
      " [ 0.49342105 -1.6978887 ]]\n",
      "X:\n",
      "[[ 0.4  0.2  0.4]\n",
      " [ 0.3  0.4  0.5]\n",
      " [ 0.3 -0.4  0.5]]\n",
      "y:\n",
      "[[0.20402798 0.36159253]\n",
      " [0.21366261 0.4109772 ]\n",
      " [0.41678303 0.21773317]]\n"
     ]
    }
   ],
   "source": [
    "W = tf.Variable(tf.random_normal([3, 2]))\n",
    "b = tf.Variable(tf.random_normal([1, 2]))\n",
    "X = tf.placeholder(\"float\", [None,3])\n",
    "y=tf.nn.sigmoid(tf.matmul(X,W)+b)\n",
    "with tf.Session() as sess:\n",
    "    init = tf.global_variables_initializer()\n",
    "    sess.run(init)\n",
    "    X_array = np.array([[0.4,0.2 ,0.4],\n",
    "                        [0.3,0.4 ,0.5],\n",
    "                        [0.3,-0.4,0.5]])    \n",
    "    (_b,_W,_X,_y)=sess.run((b,W,X,y),feed_dict={X:X_array})\n",
    "    print('b:')\n",
    "    print(_b)    \n",
    "    print('W:')\n",
    "    print(_W)\n",
    "    print('X:')\n",
    "    print(_X)\n",
    "    print('y:')\n",
    "    print(_y)"
   ]
  },
  {
   "cell_type": "code",
   "execution_count": 11,
   "metadata": {},
   "outputs": [],
   "source": [
    "def layer(output_dim,input_dim,inputs, activation=None):\n",
    "    W = tf.Variable(tf.random_normal([input_dim, output_dim]))\n",
    "    b = tf.Variable(tf.random_normal([1, output_dim]))\n",
    "    XWb = tf.matmul(inputs, W) + b\n",
    "    if activation is None:\n",
    "        outputs = XWb\n",
    "    else:\n",
    "        outputs = activation(XWb)\n",
    "    return outputs"
   ]
  },
  {
   "cell_type": "code",
   "execution_count": 12,
   "metadata": {},
   "outputs": [
    {
     "name": "stdout",
     "output_type": "stream",
     "text": [
      "X:\n",
      "[[ 0.4  0.2  0.4  0.1]\n",
      " [ 0.3  0.4  0.5  0.3]\n",
      " [ 0.3 -0.4  0.5  0.2]]\n",
      "y:\n",
      "[[0.         0.37147313 3.0472198 ]\n",
      " [0.         0.663507   3.3999739 ]\n",
      " [0.         0.         1.9462636 ]]\n"
     ]
    }
   ],
   "source": [
    "X = tf.placeholder(\"float\", [None,4])\n",
    "\n",
    "y=layer(output_dim=3,input_dim=4,inputs=X,\n",
    "        activation=tf.nn.relu)\n",
    "\n",
    "with tf.Session() as sess:\n",
    "    init = tf.global_variables_initializer()\n",
    "    sess.run(init)\n",
    "    X_array = np.array([[0.4,0.2 ,0.4,0.1],\n",
    "                        [0.3,0.4 ,0.5,0.3],\n",
    "                        [0.3,-0.4,0.5,0.2]])    \n",
    "    (_X,_y)=sess.run((X,y),feed_dict={X:X_array})\n",
    "    print('X:')\n",
    "    print(_X)\n",
    "    print('y:')\n",
    "    print(_y)    "
   ]
  },
  {
   "cell_type": "code",
   "execution_count": 13,
   "metadata": {},
   "outputs": [
    {
     "name": "stdout",
     "output_type": "stream",
     "text": [
      "input Layer X:\n",
      "[[0.4 0.2 0.4 0.5]]\n",
      "hidden Layer h:\n",
      "[[0.         1.3326057  0.49702138]]\n",
      "output Layer y:\n",
      "[[-1.6914201  1.4116585]]\n"
     ]
    }
   ],
   "source": [
    "X = tf.placeholder(\"float\", [None,4])\n",
    "h=layer(output_dim=3,input_dim=4,inputs=X,\n",
    "        activation=tf.nn.relu)\n",
    "y=layer(output_dim=2,input_dim=3,inputs=h)\n",
    "with tf.Session() as sess:\n",
    "    init = tf.global_variables_initializer()\n",
    "    sess.run(init)\n",
    "    X_array = np.array([[0.4,0.2 ,0.4,0.5]])    \n",
    "    (layer_X,layer_h,layer_y)= \\\n",
    "            sess.run((X,h,y),feed_dict={X:X_array})\n",
    "    print('input Layer X:')\n",
    "    print(layer_X)\n",
    "    print('hidden Layer h:')\n",
    "    print(layer_h)\n",
    "    print('output Layer y:')\n",
    "    print(layer_y)"
   ]
  },
  {
   "cell_type": "code",
   "execution_count": 14,
   "metadata": {},
   "outputs": [],
   "source": [
    "def layer_debug(output_dim,input_dim,inputs, activation=None):\n",
    "    W = tf.Variable(tf.random_normal([input_dim, output_dim]))\n",
    "    b = tf.Variable(tf.random_normal([1, output_dim]))\n",
    "    XWb = tf.matmul(inputs, W) + b\n",
    "    if activation is None:\n",
    "        outputs = XWb\n",
    "    else:\n",
    "        outputs = activation(XWb)\n",
    "    return outputs,W,b"
   ]
  },
  {
   "cell_type": "code",
   "execution_count": 15,
   "metadata": {},
   "outputs": [
    {
     "name": "stdout",
     "output_type": "stream",
     "text": [
      "input Layer X:\n",
      "[[0.4 0.2 0.4 0.5]]\n",
      "W1:\n",
      "[[ 0.80073994  0.8460519  -1.591037  ]\n",
      " [ 0.36017194 -0.17465675  0.9410601 ]\n",
      " [-0.01581382 -0.4808114   0.26401752]\n",
      " [-0.69657904  0.8176066  -0.74430126]]\n",
      "b1:\n",
      "[[-0.48622432 -0.06840254 -0.04224772]]\n",
      "hidden Layer h:\n",
      "[[0.         0.45156562 0.        ]]\n",
      "W2:\n",
      "[[-0.17217396 -0.84784955]\n",
      " [-0.8493076   0.41939571]\n",
      " [ 0.98087645 -0.6715823 ]]\n",
      "b2:\n",
      "[[-1.0023595  -0.48185354]]\n",
      "output Layer y:\n",
      "[[-1.3858776  -0.29246885]]\n"
     ]
    }
   ],
   "source": [
    "X = tf.placeholder(\"float\", [None,4])\n",
    "h,W1,b1=layer_debug(output_dim=3,input_dim=4,inputs=X,\n",
    "                    activation=tf.nn.relu)\n",
    "y,W2,b2=layer_debug(output_dim=2,input_dim=3,inputs=h)\n",
    "with tf.Session() as sess:\n",
    "    init = tf.global_variables_initializer()\n",
    "    sess.run(init)\n",
    "    X_array = np.array([[0.4,0.2 ,0.4,0.5]])    \n",
    "    (layer_X,layer_h,layer_y,W1,b1,W2,b2)= \\\n",
    "             sess.run((X,h,y,W1,b1,W2,b2),feed_dict={X:X_array})\n",
    "    print('input Layer X:')\n",
    "    print(layer_X)\n",
    "    print('W1:')\n",
    "    print(  W1)    \n",
    "    print('b1:')\n",
    "    print(  b1)    \n",
    "    print('hidden Layer h:')\n",
    "    print(layer_h)    \n",
    "    print('W2:')\n",
    "    print(  W2)    \n",
    "    print('b2:')\n",
    "    print(  b2)    \n",
    "    print('output Layer y:')\n",
    "    print(layer_y)"
   ]
  }
 ],
 "metadata": {
  "anaconda-cloud": {},
  "kernelspec": {
   "display_name": "Python 3",
   "language": "python",
   "name": "python3"
  },
  "language_info": {
   "codemirror_mode": {
    "name": "ipython",
    "version": 3
   },
   "file_extension": ".py",
   "mimetype": "text/x-python",
   "name": "python",
   "nbconvert_exporter": "python",
   "pygments_lexer": "ipython3",
   "version": "3.5.2"
  }
 },
 "nbformat": 4,
 "nbformat_minor": 1
}
