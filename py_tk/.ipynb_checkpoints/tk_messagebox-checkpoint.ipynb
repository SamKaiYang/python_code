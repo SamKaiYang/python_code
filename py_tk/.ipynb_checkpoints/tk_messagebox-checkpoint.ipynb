{
 "cells": [
  {
   "cell_type": "code",
   "execution_count": 33,
   "metadata": {},
   "outputs": [],
   "source": [
    "# View more python learning tutorial on my Youtube and Youku channel!!!\n",
    "\n",
    "# Youtube video tutorial: https://www.youtube.com/channel/UCdyjiB5H8Pu7aDTNVXTTpcg\n",
    "# Youku video tutorial: http://i.youku.com/pythontutorial\n",
    "\n",
    "import tkinter as tk\n",
    "import tkinter.messagebox\n",
    "\n",
    "window = tk.Tk()\n",
    "window.title('my window')\n",
    "window.geometry('200x200')\n",
    "\n",
    "def hit_me():\n",
    "    tk.messagebox.showinfo(title='Hi', message='hahahaha')   # return 'ok'\n",
    "    #tk.messagebox.showwarning(title='Hi', message='nononono')   # return 'ok'\n",
    "    #tk.messagebox.showerror(title='Hi', message='No!! never')   # return 'ok'\n",
    "    #print(tk.messagebox.askquestion(title='Hi', message='hahahaha'))   # return 'yes' , 'no'\n",
    "    #print(tk.messagebox.askyesno(title='Hi', message='hahahaha'))   # return True, False\n",
    "    #print(tk.messagebox.asktrycancel(title='Hi', message='hahahaha'))   # return True, False\n",
    "    #print(tk.messagebox.askokcancel(title='Hi', message='hahahaha'))   # return True, False\n",
    "    #print(tk.messagebox.askyesnocancel(title=\"Hi\", message=\"haha\"))     # return, True, False, None\n",
    "    aa = tk.messagebox.askquestion(title='Hi', message='hahahaha')##aa接收return值\n",
    "    if aa == 'yes':\n",
    "        frm = tk.Frame(window)\n",
    "        frm.pack()\n",
    "        frm_l = tk.Frame(frm,)\n",
    "        frm_r = tk.Frame(frm)\n",
    "        frm_l.pack(side='left')\n",
    "        frm_r.pack(side='right')\n",
    "        tk.Label(frm_l, text='on the frm_l1').pack()\n",
    "        tk.Label(frm_l, text='on the frm_l2').pack()\n",
    "        tk.Label(frm_r, text='on the frm_r1').pack()\n",
    "\n",
    "tk.Button(window, text='hit me', command=hit_me).pack()\n",
    "window.mainloop()\n"
   ]
  }
 ],
 "metadata": {
  "kernelspec": {
   "display_name": "Python 3",
   "language": "python",
   "name": "python3"
  },
  "language_info": {
   "codemirror_mode": {
    "name": "ipython",
    "version": 3
   },
   "file_extension": ".py",
   "mimetype": "text/x-python",
   "name": "python",
   "nbconvert_exporter": "python",
   "pygments_lexer": "ipython3",
   "version": "3.6.5"
  }
 },
 "nbformat": 4,
 "nbformat_minor": 2
}
